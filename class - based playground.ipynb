{
 "cells": [
  {
   "cell_type": "code",
   "execution_count": 1,
   "metadata": {
    "collapsed": false
   },
   "outputs": [],
   "source": [
    "# General imports / setup\n",
    "from util import *\n",
    "%matplotlib inline\n",
    "\n",
    "# Import models\n",
    "from sklearn.ensemble import RandomForestClassifier"
   ]
  },
  {
   "cell_type": "code",
   "execution_count": 2,
   "metadata": {
    "collapsed": false
   },
   "outputs": [],
   "source": [
    "# Establish where this is running and set the working dir appropriately\n",
    "import os.path\n",
    "if os.path.exists('../train.csv'):\n",
    "    working_dir = '..'\n",
    "elif os.path.exists('./train.csv'):\n",
    "    working_dir = '.'\n",
    "else:\n",
    "    working_dir = input('Enter working directory: ')"
   ]
  },
  {
   "cell_type": "code",
   "execution_count": 3,
   "metadata": {
    "collapsed": false
   },
   "outputs": [
    {
     "name": "stdout",
     "output_type": "stream",
     "text": [
      "Reading in data from ../train.csv\n",
      "Done reading.\n",
      "Execution time: 0:00:08.001672\n"
     ]
    }
   ],
   "source": [
    "# Create a ModelTester that will run cross-validation tests and/or prepare submissions\n",
    "tester = ModelTester(working_dir)\n",
    "tester.load_train_data(5000)"
   ]
  },
  {
   "cell_type": "code",
   "execution_count": 5,
   "metadata": {
    "collapsed": false
   },
   "outputs": [],
   "source": [
    "tester.set_model(RandomForestClassifier(), 'my_random_forest')"
   ]
  },
  {
   "cell_type": "code",
   "execution_count": 6,
   "metadata": {
    "collapsed": false
   },
   "outputs": [
    {
     "name": "stdout",
     "output_type": "stream",
     "text": [
      "Execution time: 0:00:01.748404\n",
      "scores: [ 0.86354582  0.87038883  0.85914086  0.88766299  0.87839196]\n",
      "Average score (1.0 means perfect): 0.8718260916278648\n"
     ]
    }
   ],
   "source": [
    "scores = tester.cross_validate()\n",
    "print(\"scores:\", scores)\n",
    "print (\"Average score (1.0 means perfect): {}\".format(scores.mean()))"
   ]
  },
  {
   "cell_type": "code",
   "execution_count": 8,
   "metadata": {
    "collapsed": false
   },
   "outputs": [
    {
     "name": "stdout",
     "output_type": "stream",
     "text": [
      "Preparing submission for model:  my_random_forest\n",
      "Fitting model\n",
      "Execution time: 0:00:03.845620\n",
      "Reading in data from ../test.csv\n",
      "Done reading.\n",
      "Execution time: 0:00:03.609197\n",
      "Making predictions\n",
      "Execution time: 0:00:00.267704\n",
      "Writing submission to file: ../submission_my_random_forest.csv\n",
      "Execution time: 0:00:00.088277\n"
     ]
    }
   ],
   "source": [
    "tester.prepare_submission()"
   ]
  },
  {
   "cell_type": "code",
   "execution_count": 10,
   "metadata": {
    "collapsed": true
   },
   "outputs": [],
   "source": []
  },
  {
   "cell_type": "code",
   "execution_count": null,
   "metadata": {
    "collapsed": true
   },
   "outputs": [],
   "source": []
  }
 ],
 "metadata": {
  "kernelspec": {
   "display_name": "Python 3",
   "language": "python",
   "name": "python3"
  },
  "language_info": {
   "codemirror_mode": {
    "name": "ipython",
    "version": 3
   },
   "file_extension": ".py",
   "mimetype": "text/x-python",
   "name": "python",
   "nbconvert_exporter": "python",
   "pygments_lexer": "ipython3",
   "version": "3.5.2"
  }
 },
 "nbformat": 4,
 "nbformat_minor": 0
}
