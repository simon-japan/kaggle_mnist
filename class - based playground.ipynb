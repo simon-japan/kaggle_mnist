{
 "cells": [
  {
   "cell_type": "code",
   "execution_count": 1,
   "metadata": {
    "collapsed": false
   },
   "outputs": [
    {
     "name": "stderr",
     "output_type": "stream",
     "text": [
      "/Users/simon/anaconda/envs/py35/lib/python3.4/site-packages/sklearn/cross_validation.py:44: DeprecationWarning: This module was deprecated in version 0.18 in favor of the model_selection module into which all the refactored classes and functions are moved. Also note that the interface of the new CV iterators are different from that of this module. This module will be removed in 0.20.\n",
      "  \"This module will be removed in 0.20.\", DeprecationWarning)\n"
     ]
    }
   ],
   "source": [
    "# General imports / setup\n",
    "from util import *\n",
    "%matplotlib inline\n",
    "\n",
    "# Import models\n",
    "from sklearn.ensemble import RandomForestClassifier"
   ]
  },
  {
   "cell_type": "code",
   "execution_count": 2,
   "metadata": {
    "collapsed": false
   },
   "outputs": [
    {
     "name": "stdout",
     "output_type": "stream",
     "text": [
      "Reading in data from /Volumes/HD-LBU2/kaggle/mnist/train.csv\n",
      "Done reading.\n",
      "Execution time: 0:00:04.531923\n"
     ]
    }
   ],
   "source": [
    "# Create a ModelTester that will run cross-validation tests and/or prepare submissions\n",
    "tester = ModelTester('/Volumes/HD-LBU2/kaggle/mnist/')\n",
    "tester.load_train_data(5000)"
   ]
  },
  {
   "cell_type": "code",
   "execution_count": 3,
   "metadata": {
    "collapsed": true
   },
   "outputs": [],
   "source": [
    "tester.set_model(RandomForestClassifier())"
   ]
  },
  {
   "cell_type": "code",
   "execution_count": 4,
   "metadata": {
    "collapsed": false
   },
   "outputs": [
    {
     "name": "stdout",
     "output_type": "stream",
     "text": [
      "Execution time: 0:00:00.931983\n",
      "scores: [ 0.8874502   0.88423154  0.874       0.86960883  0.8996991 ]\n",
      "Average score (1.0 means perfect): 0.8829979319801298\n"
     ]
    }
   ],
   "source": [
    "scores = tester.cross_validate()\n",
    "print(\"scores:\", scores)\n",
    "print (\"Average score (1.0 means perfect): {}\".format(scores.mean()))"
   ]
  },
  {
   "cell_type": "code",
   "execution_count": 5,
   "metadata": {
    "collapsed": false
   },
   "outputs": [
    {
     "name": "stdout",
     "output_type": "stream",
     "text": [
      "Reading in data from /Volumes/HD-LBU2/kaggle/mnist/train.csv\n",
      "Done reading.\n",
      "Execution time: 0:00:04.493206\n",
      "Fitting model\n",
      "Execution time: 0:00:02.126946\n",
      "Reading in data from /Volumes/HD-LBU2/kaggle/mnist/test.csv\n",
      "Done reading.\n",
      "Execution time: 0:00:02.096805\n",
      "Making predictions\n",
      "Execution time: 0:00:00.163249\n",
      "Writing submission to file: /Volumes/HD-LBU2/kaggle/mnist/submission_testing.csv\n",
      "Execution time: 0:00:00.036978\n"
     ]
    }
   ],
   "source": [
    "tester.prepare_submission(\"testing\")"
   ]
  },
  {
   "cell_type": "code",
   "execution_count": 10,
   "metadata": {
    "collapsed": true
   },
   "outputs": [],
   "source": []
  },
  {
   "cell_type": "code",
   "execution_count": null,
   "metadata": {
    "collapsed": true
   },
   "outputs": [],
   "source": []
  }
 ],
 "metadata": {
  "kernelspec": {
   "display_name": "Python 3",
   "language": "python",
   "name": "python3"
  },
  "language_info": {
   "codemirror_mode": {
    "name": "ipython",
    "version": 3
   },
   "file_extension": ".py",
   "mimetype": "text/x-python",
   "name": "python",
   "nbconvert_exporter": "python",
   "pygments_lexer": "ipython3",
   "version": "3.4.5"
  }
 },
 "nbformat": 4,
 "nbformat_minor": 0
}
