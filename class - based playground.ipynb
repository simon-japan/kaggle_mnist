{
 "cells": [
  {
   "cell_type": "code",
   "execution_count": 11,
   "metadata": {
    "collapsed": false
   },
   "outputs": [],
   "source": [
    "# General imports / setup\n",
    "from util import *\n",
    "%matplotlib inline"
   ]
  },
  {
   "cell_type": "code",
   "execution_count": 2,
   "metadata": {
    "collapsed": false
   },
   "outputs": [],
   "source": [
    "# Establish where this is running and set the working dir appropriately\n",
    "import os.path\n",
    "if os.path.exists('../train.csv'):\n",
    "    working_dir = '..'\n",
    "elif os.path.exists('./train.csv'):\n",
    "    working_dir = '.'\n",
    "else:\n",
    "    working_dir = input('Enter working directory: ')"
   ]
  },
  {
   "cell_type": "code",
   "execution_count": 23,
   "metadata": {
    "collapsed": false
   },
   "outputs": [
    {
     "name": "stdout",
     "output_type": "stream",
     "text": [
      "Reading in data from ../train.csv\n",
      "Done reading.\n",
      "Execution time: 0:00:07.101226\n"
     ]
    }
   ],
   "source": [
    "# Create a ModelTester that will run cross-validation tests and/or prepare submissions\n",
    "tester = ModelTester(working_dir)\n",
    "tester.load_train_data(5000)"
   ]
  },
  {
   "cell_type": "code",
   "execution_count": 28,
   "metadata": {
    "collapsed": false
   },
   "outputs": [],
   "source": [
    "# Import models\n",
    "from sklearn.ensemble import RandomForestClassifier\n",
    "from sklearn.neighbors import KNeighborsClassifier\n",
    "from sklearn.naive_bayes import GaussianNB\n",
    "from sklearn.linear_model import LogisticRegression\n",
    "\n",
    "# Set model\n",
    "# tester.set_model(RandomForestClassifier(), 'my_random_forest')\n",
    "# Execution time: 0:00:01.802182\n",
    "# scores: [ 0.88346614  0.86027944  0.89410589  0.88588589  0.87022133]\n",
    "# Average score (1.0 means perfect): 0.8787917369071037\n",
    "\n",
    "# tester.set_model(KNeighborsClassifier(n_neighbors=3), '3nn')\n",
    "# Execution time: 0:00:40.594181\n",
    "# scores: [ 0.93525896  0.92215569  0.94305694  0.91891892  0.92354125]\n",
    "# Average score (1.0 means perfect): 0.9285863524453906\n",
    "\n",
    "# tester.set_model(GaussianNB(), 'naive_bayes')\n",
    "# Execution time: 0:00:11.119659\n",
    "# scores: [ 0.56038073  0.56634535  0.55423265  0.55603192  0.54930919]\n",
    "# Average score (1.0 means perfect): 0.5572599672735071\n",
    "\n",
    "# tester.set_model(LogisticRegression(), 'logistic_regression')\n",
    "# Execution time: 0:00:16.238690\n",
    "# scores: [ 0.89741036  0.87025948  0.9020979   0.89289289  0.87726358]\n",
    "# Average score (1.0 means perfect): 0.8879848432166779"
   ]
  },
  {
   "cell_type": "code",
   "execution_count": 29,
   "metadata": {
    "collapsed": false
   },
   "outputs": [
    {
     "name": "stdout",
     "output_type": "stream",
     "text": [
      "Execution time: 0:00:16.238690\n",
      "scores: [ 0.89741036  0.87025948  0.9020979   0.89289289  0.87726358]\n",
      "Average score (1.0 means perfect): 0.8879848432166779\n"
     ]
    }
   ],
   "source": [
    "scores = tester.cross_validate()\n",
    "print(\"scores:\", scores)\n",
    "print (\"Average score (1.0 means perfect): {}\".format(scores.mean()))"
   ]
  },
  {
   "cell_type": "code",
   "execution_count": 6,
   "metadata": {
    "collapsed": false
   },
   "outputs": [
    {
     "name": "stdout",
     "output_type": "stream",
     "text": [
      "Preparing submission for model:  my_random_forest\n",
      "Will load full training set.\n",
      "Reading in data from ../train.csv\n",
      "Done reading.\n",
      "Execution time: 0:00:07.336120\n",
      "Fitting model\n",
      "Execution time: 0:00:03.692686\n",
      "Reading in data from ../test.csv\n",
      "Done reading.\n",
      "Execution time: 0:00:03.686640\n",
      "Making predictions\n",
      "Execution time: 0:00:00.256513\n",
      "Writing submission to file: ../submission_my_random_forest.csv\n",
      "Execution time: 0:00:00.091602\n"
     ]
    }
   ],
   "source": [
    "tester.prepare_submission()"
   ]
  },
  {
   "cell_type": "code",
   "execution_count": 10,
   "metadata": {
    "collapsed": true
   },
   "outputs": [],
   "source": []
  },
  {
   "cell_type": "code",
   "execution_count": null,
   "metadata": {
    "collapsed": true
   },
   "outputs": [],
   "source": []
  }
 ],
 "metadata": {
  "kernelspec": {
   "display_name": "Python 3",
   "language": "python",
   "name": "python3"
  },
  "language_info": {
   "codemirror_mode": {
    "name": "ipython",
    "version": 3
   },
   "file_extension": ".py",
   "mimetype": "text/x-python",
   "name": "python",
   "nbconvert_exporter": "python",
   "pygments_lexer": "ipython3",
   "version": "3.5.2"
  }
 },
 "nbformat": 4,
 "nbformat_minor": 0
}
